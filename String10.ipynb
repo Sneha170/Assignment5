{
 "cells": [
  {
   "cell_type": "code",
   "execution_count": 2,
   "id": "a0974a4f",
   "metadata": {},
   "outputs": [
    {
     "name": "stdout",
     "output_type": "stream",
     "text": [
      "input Words :red,white,black,red,green,black\n",
      "output :\n",
      "black,green,red,white\n"
     ]
    }
   ],
   "source": [
    "items=input(\"input Words :\")\n",
    "words=[word for word in items.split(\",\")]\n",
    "print(\"output :\")\n",
    "print(\",\".join(sorted(list(set(words)))))"
   ]
  },
  {
   "cell_type": "code",
   "execution_count": null,
   "id": "3ca5aa7e",
   "metadata": {},
   "outputs": [],
   "source": []
  }
 ],
 "metadata": {
  "kernelspec": {
   "display_name": "Python 3 (ipykernel)",
   "language": "python",
   "name": "python3"
  },
  "language_info": {
   "codemirror_mode": {
    "name": "ipython",
    "version": 3
   },
   "file_extension": ".py",
   "mimetype": "text/x-python",
   "name": "python",
   "nbconvert_exporter": "python",
   "pygments_lexer": "ipython3",
   "version": "3.9.13"
  }
 },
 "nbformat": 4,
 "nbformat_minor": 5
}
