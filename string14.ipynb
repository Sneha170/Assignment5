{
 "cells": [
  {
   "cell_type": "code",
   "execution_count": 1,
   "id": "d7634dec",
   "metadata": {},
   "outputs": [
    {
     "name": "stdout",
     "output_type": "stream",
     "text": [
      "\n",
      " Original Number :  3.1415926\n",
      "Formatted Number : 3.14\n",
      "\n",
      " Original Number :  12.9999\n",
      "Formatted Number : 13.00\n"
     ]
    }
   ],
   "source": [
    "x=3.1415926\n",
    "y=12.9999\n",
    "print(\"\\n Original Number : \",x)\n",
    "print(\"Formatted Number : \"+\"{:.2f}\".format(x))\n",
    "print(\"\\n Original Number : \",y)\n",
    "print(\"Formatted Number : \"+\"{:.2f}\".format(y))\n"
   ]
  },
  {
   "cell_type": "code",
   "execution_count": null,
   "id": "e350f682",
   "metadata": {},
   "outputs": [],
   "source": []
  }
 ],
 "metadata": {
  "kernelspec": {
   "display_name": "Python 3 (ipykernel)",
   "language": "python",
   "name": "python3"
  },
  "language_info": {
   "codemirror_mode": {
    "name": "ipython",
    "version": 3
   },
   "file_extension": ".py",
   "mimetype": "text/x-python",
   "name": "python",
   "nbconvert_exporter": "python",
   "pygments_lexer": "ipython3",
   "version": "3.9.13"
  }
 },
 "nbformat": 4,
 "nbformat_minor": 5
}
