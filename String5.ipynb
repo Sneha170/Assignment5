{
 "cells": [
  {
   "cell_type": "code",
   "execution_count": 1,
   "id": "b832101d",
   "metadata": {},
   "outputs": [
    {
     "name": "stdout",
     "output_type": "stream",
     "text": [
      "Enter a String1:abc\n",
      "Enter a String2:xyz\n",
      "xyc abz\n"
     ]
    }
   ],
   "source": [
    "def singlestring_twostring(Str1,Str2):\n",
    "    new_Str1=Str2[:2]+Str1[2:]\n",
    "    new_Str2=Str1[:2]+Str2[2:]\n",
    "    return new_Str1+\" \"+new_Str2\n",
    "Str1=input(\"Enter a String1:\")\n",
    "Str2=input(\"Enter a String2:\")\n",
    "print(singlestring_twostring(Str1,Str2))\n"
   ]
  },
  {
   "cell_type": "code",
   "execution_count": null,
   "id": "4658bd2f",
   "metadata": {},
   "outputs": [],
   "source": []
  },
  {
   "cell_type": "code",
   "execution_count": null,
   "id": "b97ba309",
   "metadata": {},
   "outputs": [],
   "source": []
  },
  {
   "cell_type": "code",
   "execution_count": null,
   "id": "e62e471e",
   "metadata": {},
   "outputs": [],
   "source": []
  }
 ],
 "metadata": {
  "kernelspec": {
   "display_name": "Python 3 (ipykernel)",
   "language": "python",
   "name": "python3"
  },
  "language_info": {
   "codemirror_mode": {
    "name": "ipython",
    "version": 3
   },
   "file_extension": ".py",
   "mimetype": "text/x-python",
   "name": "python",
   "nbconvert_exporter": "python",
   "pygments_lexer": "ipython3",
   "version": "3.9.13"
  }
 },
 "nbformat": 4,
 "nbformat_minor": 5
}
