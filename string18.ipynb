{
 "cells": [
  {
   "cell_type": "code",
   "execution_count": 3,
   "id": "14ee9df9",
   "metadata": {},
   "outputs": [
    {
     "name": "stdout",
     "output_type": "stream",
     "text": [
      "Enter a String :32.054,23\n",
      "32,054.23\n"
     ]
    }
   ],
   "source": [
    "def swap_comma_dot(str):\n",
    "    maketrans=str.maketrans\n",
    "    res=str.translate(maketrans(',.','.,',' '))\n",
    "    return res.replace(',',',')\n",
    "str=input(\"Enter a String :\")\n",
    "print(swap_comma_dot(str))"
   ]
  },
  {
   "cell_type": "code",
   "execution_count": null,
   "id": "595067b5",
   "metadata": {},
   "outputs": [],
   "source": []
  }
 ],
 "metadata": {
  "kernelspec": {
   "display_name": "Python 3 (ipykernel)",
   "language": "python",
   "name": "python3"
  },
  "language_info": {
   "codemirror_mode": {
    "name": "ipython",
    "version": 3
   },
   "file_extension": ".py",
   "mimetype": "text/x-python",
   "name": "python",
   "nbconvert_exporter": "python",
   "pygments_lexer": "ipython3",
   "version": "3.9.13"
  }
 },
 "nbformat": 4,
 "nbformat_minor": 5
}
