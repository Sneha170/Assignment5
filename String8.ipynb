{
 "cells": [
  {
   "cell_type": "code",
   "execution_count": 1,
   "id": "d11ef592",
   "metadata": {},
   "outputs": [
    {
     "name": "stdout",
     "output_type": "stream",
     "text": [
      "Input : ['red', 'white', 'black', 'red', 'green', 'black']\n",
      "output : (3, 'red')\n"
     ]
    }
   ],
   "source": [
    "def longest_word(words):\n",
    "    word_len=[]\n",
    "    for n in words:\n",
    "        word_len.append((len(n),n))\n",
    "        word_len.sort()\n",
    "        return word_len[-1][0],word_len[-1][1]\n",
    "words=[\"red\",\"white\",\"black\",\"red\",\"green\",\"black\"]\n",
    "print(\"Input :\",words)\n",
    "print(\"output :\",longest_word(words))"
   ]
  },
  {
   "cell_type": "code",
   "execution_count": null,
   "id": "59e4ff37",
   "metadata": {},
   "outputs": [],
   "source": []
  }
 ],
 "metadata": {
  "kernelspec": {
   "display_name": "Python 3 (ipykernel)",
   "language": "python",
   "name": "python3"
  },
  "language_info": {
   "codemirror_mode": {
    "name": "ipython",
    "version": 3
   },
   "file_extension": ".py",
   "mimetype": "text/x-python",
   "name": "python",
   "nbconvert_exporter": "python",
   "pygments_lexer": "ipython3",
   "version": "3.9.13"
  }
 },
 "nbformat": 4,
 "nbformat_minor": 5
}
