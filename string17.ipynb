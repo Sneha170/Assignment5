{
 "cells": [
  {
   "cell_type": "code",
   "execution_count": 3,
   "id": "432710ec",
   "metadata": {},
   "outputs": [
    {
     "name": "stdout",
     "output_type": "stream",
     "text": [
      "Enter a string :convert string to list\n",
      "output : ['convert', 'string', 'to', 'list']\n"
     ]
    }
   ],
   "source": [
    "def convert(str):\n",
    "    List=list(str.split(\" \"))\n",
    "    return List\n",
    "str=input(\"Enter a string :\")\n",
    "print(\"output :\",convert(str))\n"
   ]
  },
  {
   "cell_type": "code",
   "execution_count": null,
   "id": "f2774fd4",
   "metadata": {},
   "outputs": [],
   "source": []
  }
 ],
 "metadata": {
  "kernelspec": {
   "display_name": "Python 3 (ipykernel)",
   "language": "python",
   "name": "python3"
  },
  "language_info": {
   "codemirror_mode": {
    "name": "ipython",
    "version": 3
   },
   "file_extension": ".py",
   "mimetype": "text/x-python",
   "name": "python",
   "nbconvert_exporter": "python",
   "pygments_lexer": "ipython3",
   "version": "3.9.13"
  }
 },
 "nbformat": 4,
 "nbformat_minor": 5
}
