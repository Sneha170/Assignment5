{
 "cells": [
  {
   "cell_type": "code",
   "execution_count": 1,
   "id": "979544a8",
   "metadata": {},
   "outputs": [
    {
     "name": "stdout",
     "output_type": "stream",
     "text": [
      "Enter a String :hello\n",
      "character  h : index 0\n",
      "character  e : index 1\n",
      "character  l : index 2\n",
      "character  l : index 3\n",
      "character  o : index 4\n"
     ]
    }
   ],
   "source": [
    "str=input(\"Enter a String :\")\n",
    "for index,char in enumerate(str):\n",
    "    print(\"character \",char,\": index\",index)"
   ]
  },
  {
   "cell_type": "code",
   "execution_count": null,
   "id": "3ec5932e",
   "metadata": {},
   "outputs": [],
   "source": []
  }
 ],
 "metadata": {
  "kernelspec": {
   "display_name": "Python 3 (ipykernel)",
   "language": "python",
   "name": "python3"
  },
  "language_info": {
   "codemirror_mode": {
    "name": "ipython",
    "version": 3
   },
   "file_extension": ".py",
   "mimetype": "text/x-python",
   "name": "python",
   "nbconvert_exporter": "python",
   "pygments_lexer": "ipython3",
   "version": "3.9.13"
  }
 },
 "nbformat": 4,
 "nbformat_minor": 5
}
