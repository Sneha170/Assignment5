{
 "cells": [
  {
   "cell_type": "code",
   "execution_count": 4,
   "id": "c5b15a5c",
   "metadata": {},
   "outputs": [
    {
     "name": "stdout",
     "output_type": "stream",
     "text": [
      "Enter a String :python program to find smallest and largest\n",
      "smallest word : to\n",
      "largest word : smallest\n"
     ]
    }
   ],
   "source": [
    "def smallest_largest(str):\n",
    "    word=\"\"\n",
    "    all_words=[]\n",
    "    str=str+\" \"\n",
    "    for i in range(0,len(str)):\n",
    "        if(str[i]!=\" \"):\n",
    "            word=word+str[i]\n",
    "        else:\n",
    "            all_words.append(word)\n",
    "            word=\"\"\n",
    "    small=large=all_words[0]\n",
    "    for k in range(0,len(all_words)):\n",
    "        if(len(small)>len(all_words[k])):\n",
    "            small=all_words[k]\n",
    "        if (len(large)<len(all_words[k])):\n",
    "            large=all_words[k]\n",
    "    return small,large\n",
    "str=input(\"Enter a String :\")\n",
    "small,large=smallest_largest(str)\n",
    "print(\"smallest word :\",small)\n",
    "print(\"largest word :\",large)"
   ]
  },
  {
   "cell_type": "raw",
   "id": "4c1ff10c",
   "metadata": {},
   "source": []
  },
  {
   "cell_type": "code",
   "execution_count": null,
   "id": "7ba1c62f",
   "metadata": {},
   "outputs": [],
   "source": []
  }
 ],
 "metadata": {
  "kernelspec": {
   "display_name": "Python 3 (ipykernel)",
   "language": "python",
   "name": "python3"
  },
  "language_info": {
   "codemirror_mode": {
    "name": "ipython",
    "version": 3
   },
   "file_extension": ".py",
   "mimetype": "text/x-python",
   "name": "python",
   "nbconvert_exporter": "python",
   "pygments_lexer": "ipython3",
   "version": "3.9.13"
  }
 },
 "nbformat": 4,
 "nbformat_minor": 5
}
