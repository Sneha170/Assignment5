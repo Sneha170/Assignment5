{
 "cells": [
  {
   "cell_type": "code",
   "execution_count": null,
   "id": "c3b0abb0",
   "metadata": {},
   "outputs": [
    {
     "name": "stdout",
     "output_type": "stream",
     "text": [
      "Enter a string1 :The lyrics is good\n",
      "Expected output : poorgood\n"
     ]
    }
   ],
   "source": [
    "def not_poor(str):\n",
    "    snot=str.find('not')\n",
    "    spoor=str.find('poor')\n",
    "    sgood=str.find('good')\n",
    "    if spoor>snot and snot>0 and spoor>0:\n",
    "        str=str.replace(str[snot:(spoor+4)],'good')\n",
    "        return str\n",
    "    elif sgood>0:\n",
    "        str=str.replace(str[0:(sgood)],'poor');\n",
    "        return str\n",
    "    else:\n",
    "        return str\n",
    "str1=input(\"Enter a string1 :\")\n",
    "print(\"Expected output :\",not_poor(str1))\n",
    "str2=input(\"Enter a string1 :\")\n",
    "print(\"Expected output :\",not_poor(str2))"
   ]
  },
  {
   "cell_type": "code",
   "execution_count": null,
   "id": "1cbfb8e0",
   "metadata": {},
   "outputs": [],
   "source": []
  },
  {
   "cell_type": "code",
   "execution_count": null,
   "id": "1726dcfb",
   "metadata": {},
   "outputs": [],
   "source": []
  }
 ],
 "metadata": {
  "kernelspec": {
   "display_name": "Python 3 (ipykernel)",
   "language": "python",
   "name": "python3"
  },
  "language_info": {
   "codemirror_mode": {
    "name": "ipython",
    "version": 3
   },
   "file_extension": ".py",
   "mimetype": "text/x-python",
   "name": "python",
   "nbconvert_exporter": "python",
   "pygments_lexer": "ipython3",
   "version": "3.9.13"
  }
 },
 "nbformat": 4,
 "nbformat_minor": 5
}
