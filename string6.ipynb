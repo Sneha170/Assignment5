{
 "cells": [
  {
   "cell_type": "code",
   "execution_count": 1,
   "id": "22371f31",
   "metadata": {},
   "outputs": [
    {
     "name": "stdout",
     "output_type": "stream",
     "text": [
      "Enter a String :abc\n",
      "output : abcing\n",
      "Enter a String :string\n",
      "output : stringly\n"
     ]
    }
   ],
   "source": [
    "def Add(str):\n",
    "    length=len(str)\n",
    "    if length>2:\n",
    "        if str[-3:]=='ing':\n",
    "            str=str+'ly'\n",
    "        else:\n",
    "            str=str+'ing'\n",
    "    return str\n",
    "str1=input(\"Enter a String :\")\n",
    "print(\"output :\",Add(str1))\n",
    "str2=input(\"Enter a String :\")\n",
    "print(\"output :\",Add(str2))"
   ]
  },
  {
   "cell_type": "code",
   "execution_count": null,
   "id": "746be0fd",
   "metadata": {},
   "outputs": [],
   "source": []
  }
 ],
 "metadata": {
  "kernelspec": {
   "display_name": "Python 3 (ipykernel)",
   "language": "python",
   "name": "python3"
  },
  "language_info": {
   "codemirror_mode": {
    "name": "ipython",
    "version": 3
   },
   "file_extension": ".py",
   "mimetype": "text/x-python",
   "name": "python",
   "nbconvert_exporter": "python",
   "pygments_lexer": "ipython3",
   "version": "3.9.13"
  }
 },
 "nbformat": 4,
 "nbformat_minor": 5
}
