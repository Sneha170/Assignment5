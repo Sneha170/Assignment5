{
 "cells": [
  {
   "cell_type": "code",
   "execution_count": 2,
   "id": "4bccdc90",
   "metadata": {},
   "outputs": [
    {
     "name": "stdout",
     "output_type": "stream",
     "text": [
      "Enter a String :thequickbrownfoxjumpoverthelazydog\n",
      "o 4\n",
      "e 3\n",
      "t 2\n",
      "h 2\n",
      "u 2\n",
      "r 2\n"
     ]
    }
   ],
   "source": [
    "import collections\n",
    "str=input(\"Enter a String :\")\n",
    "d=collections.defaultdict(int)\n",
    "for c in str:\n",
    "    d[c]+=1\n",
    "for c in sorted(d,key=d.get,reverse=True):\n",
    "    if d[c]>1:\n",
    "        print(\"%s %d\"%(c,d[c]))\n",
    "        "
   ]
  },
  {
   "cell_type": "code",
   "execution_count": null,
   "id": "c178479a",
   "metadata": {},
   "outputs": [],
   "source": []
  }
 ],
 "metadata": {
  "kernelspec": {
   "display_name": "Python 3 (ipykernel)",
   "language": "python",
   "name": "python3"
  },
  "language_info": {
   "codemirror_mode": {
    "name": "ipython",
    "version": 3
   },
   "file_extension": ".py",
   "mimetype": "text/x-python",
   "name": "python",
   "nbconvert_exporter": "python",
   "pygments_lexer": "ipython3",
   "version": "3.9.13"
  }
 },
 "nbformat": 4,
 "nbformat_minor": 5
}
