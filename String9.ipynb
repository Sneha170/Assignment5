{
 "cells": [
  {
   "cell_type": "code",
   "execution_count": 1,
   "id": "67b37b71",
   "metadata": {},
   "outputs": [
    {
     "name": "stdout",
     "output_type": "stream",
     "text": [
      "Enter a string :Hello\n",
      "output : ello\n",
      "output : Helo\n",
      "output : Hello\n"
     ]
    }
   ],
   "source": [
    "def Remove_char(str,n):\n",
    "    firstpart=str[:n]\n",
    "    lastpart=str[n+1:]\n",
    "    return firstpart+lastpart\n",
    "str=input(\"Enter a string :\")\n",
    "print(\"output :\",Remove_char(str,0))\n",
    "print(\"output :\",Remove_char(str,3))\n",
    "print(\"output :\",Remove_char(str,5))"
   ]
  },
  {
   "cell_type": "code",
   "execution_count": null,
   "id": "8bcc1d88",
   "metadata": {},
   "outputs": [],
   "source": []
  }
 ],
 "metadata": {
  "kernelspec": {
   "display_name": "Python 3 (ipykernel)",
   "language": "python",
   "name": "python3"
  },
  "language_info": {
   "codemirror_mode": {
    "name": "ipython",
    "version": 3
   },
   "file_extension": ".py",
   "mimetype": "text/x-python",
   "name": "python",
   "nbconvert_exporter": "python",
   "pygments_lexer": "ipython3",
   "version": "3.9.13"
  }
 },
 "nbformat": 4,
 "nbformat_minor": 5
}
