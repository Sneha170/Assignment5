{
 "cells": [
  {
   "cell_type": "code",
   "execution_count": 2,
   "id": "79d23f46",
   "metadata": {},
   "outputs": [
    {
     "name": "stdout",
     "output_type": "stream",
     "text": [
      "Enter a String :restart\n",
      "Expected Output : resta$t\n"
     ]
    }
   ],
   "source": [
    "def Replace(Str):\n",
    "    char=Str[0]\n",
    "    Str=Str.replace(char,'$')\n",
    "    Str=char+Str[1:]\n",
    "    return Str\n",
    "Str=input(\"Enter a String :\")\n",
    "print(\"Expected Output :\",Replace(Str))"
   ]
  },
  {
   "cell_type": "code",
   "execution_count": null,
   "id": "10c72003",
   "metadata": {},
   "outputs": [],
   "source": []
  }
 ],
 "metadata": {
  "kernelspec": {
   "display_name": "Python 3 (ipykernel)",
   "language": "python",
   "name": "python3"
  },
  "language_info": {
   "codemirror_mode": {
    "name": "ipython",
    "version": 3
   },
   "file_extension": ".py",
   "mimetype": "text/x-python",
   "name": "python",
   "nbconvert_exporter": "python",
   "pygments_lexer": "ipython3",
   "version": "3.9.13"
  }
 },
 "nbformat": 4,
 "nbformat_minor": 5
}
