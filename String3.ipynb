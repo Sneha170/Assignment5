{
 "cells": [
  {
   "cell_type": "code",
   "execution_count": 3,
   "id": "e1f23e74",
   "metadata": {},
   "outputs": [
    {
     "name": "stdout",
     "output_type": "stream",
     "text": [
      "Enter a String :thisisniceone\n",
      "Expected Output : thne\n"
     ]
    }
   ],
   "source": [
    "def First2_last2(Str):\n",
    "    if len(Str)<2:\n",
    "        return ''\n",
    "    return Str[0:2]+Str[-2:]\n",
    "Str=input(\"Enter a String :\")\n",
    "print(\"Expected Output :\",First2_last2(Str))"
   ]
  },
  {
   "cell_type": "code",
   "execution_count": null,
   "id": "e91c06d6",
   "metadata": {},
   "outputs": [],
   "source": []
  }
 ],
 "metadata": {
  "kernelspec": {
   "display_name": "Python 3 (ipykernel)",
   "language": "python",
   "name": "python3"
  },
  "language_info": {
   "codemirror_mode": {
    "name": "ipython",
    "version": 3
   },
   "file_extension": ".py",
   "mimetype": "text/x-python",
   "name": "python",
   "nbconvert_exporter": "python",
   "pygments_lexer": "ipython3",
   "version": "3.9.13"
  }
 },
 "nbformat": 4,
 "nbformat_minor": 5
}
