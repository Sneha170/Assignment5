{
 "cells": [
  {
   "cell_type": "code",
   "execution_count": 2,
   "id": "a70d7ac8",
   "metadata": {},
   "outputs": [
    {
     "name": "stdout",
     "output_type": "stream",
     "text": [
      "Enter a String :hiii\n",
      " output : iiih\n",
      "Enter a String :word\n",
      " output : drow\n"
     ]
    }
   ],
   "source": [
    "def reverse(str):\n",
    "    if len(str)%4==0:\n",
    "        return \"\".join(reversed(str))\n",
    "    return str\n",
    "str1=input(\"Enter a String :\")\n",
    "print(\" output :\",reverse(str1))\n",
    "str2=input(\"Enter a String :\")\n",
    "print(\" output :\",reverse(str2))\n"
   ]
  },
  {
   "cell_type": "code",
   "execution_count": null,
   "id": "ad27c9fb",
   "metadata": {},
   "outputs": [],
   "source": []
  }
 ],
 "metadata": {
  "kernelspec": {
   "display_name": "Python 3 (ipykernel)",
   "language": "python",
   "name": "python3"
  },
  "language_info": {
   "codemirror_mode": {
    "name": "ipython",
    "version": 3
   },
   "file_extension": ".py",
   "mimetype": "text/x-python",
   "name": "python",
   "nbconvert_exporter": "python",
   "pygments_lexer": "ipython3",
   "version": "3.9.13"
  }
 },
 "nbformat": 4,
 "nbformat_minor": 5
}
