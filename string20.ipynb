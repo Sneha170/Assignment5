{
 "cells": [
  {
   "cell_type": "code",
   "execution_count": 2,
   "id": "9976e99c",
   "metadata": {},
   "outputs": [
    {
     "name": "stdout",
     "output_type": "stream",
     "text": [
      "Enter a string :aabbc\n",
      "output  abc\n"
     ]
    }
   ],
   "source": [
    "def duplicate(str):\n",
    "    if len(str)<2:\n",
    "        return str\n",
    "    if str[0]!=str[1]:\n",
    "        return str[0]+duplicate(str[1:])\n",
    "    return duplicate(str[1:])\n",
    "str=input(\"Enter a string :\")\n",
    "print(\"output \",duplicate(str))"
   ]
  },
  {
   "cell_type": "code",
   "execution_count": null,
   "id": "80db7793",
   "metadata": {},
   "outputs": [],
   "source": []
  }
 ],
 "metadata": {
  "kernelspec": {
   "display_name": "Python 3 (ipykernel)",
   "language": "python",
   "name": "python3"
  },
  "language_info": {
   "codemirror_mode": {
    "name": "ipython",
    "version": 3
   },
   "file_extension": ".py",
   "mimetype": "text/x-python",
   "name": "python",
   "nbconvert_exporter": "python",
   "pygments_lexer": "ipython3",
   "version": "3.9.13"
  }
 },
 "nbformat": 4,
 "nbformat_minor": 5
}
